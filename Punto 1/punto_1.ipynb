{
 "cells": [
  {
   "cell_type": "markdown",
   "metadata": {},
   "source": [
    "# Red Neuronal"
   ]
  },
  {
   "cell_type": "markdown",
   "metadata": {},
   "source": [
    "## Libraries"
   ]
  },
  {
   "cell_type": "code",
   "execution_count": 1095,
   "metadata": {},
   "outputs": [],
   "source": [
    "import pandas as pd\n",
    "import numpy as np\n",
    "import matplotlib.pyplot as plt\n",
    "import seaborn as sns\n",
    "\n",
    "from statsmodels.stats.outliers_influence import variance_inflation_factor\n",
    "\n",
    "from imblearn.combine import SMOTETomek\n",
    "\n",
    "from sklearn.inspection import permutation_importance\n",
    "from sklearn.ensemble import RandomForestClassifier\n",
    "from sklearn.model_selection import train_test_split\n",
    "from sklearn.preprocessing import StandardScaler\n",
    "from sklearn.utils.class_weight import compute_class_weight\n",
    "from sklearn.metrics import classification_report,roc_auc_score, confusion_matrix, precision_score, recall_score, f1_score, accuracy_score\n",
    "\n",
    "from tensorflow.keras.models import Sequential\n",
    "from tensorflow.keras.layers import Dense, Dropout\n",
    "from tensorflow.keras.callbacks import EarlyStopping\n",
    "from tensorflow.keras.regularizers import l2\n"
   ]
  },
  {
   "cell_type": "markdown",
   "metadata": {},
   "source": [
    "## Data Exploration"
   ]
  },
  {
   "cell_type": "code",
   "execution_count": 1096,
   "metadata": {},
   "outputs": [],
   "source": [
    "df = pd.read_pickle('../assignment-TL/data/df_bd.pkl')"
   ]
  },
  {
   "cell_type": "code",
   "execution_count": 1097,
   "metadata": {},
   "outputs": [
    {
     "name": "stdout",
     "output_type": "stream",
     "text": [
      "          x1        x2  x3  x4   x5   x6  Target\n",
      "0  1525020.0   2.32277  10   7  310  718     1.0\n",
      "1   274197.0  19.31960   6  21   29  541     1.0\n",
      "2   169780.0  12.50540   6   1   62  763     1.0\n",
      "3    17227.8  16.52660   2  14   45  728     1.0\n",
      "4   437237.0  32.53740   4  23   22  683     1.0\n"
     ]
    }
   ],
   "source": [
    "# Muestra las primeras 5 filas del dataframe\n",
    "print(df.head())"
   ]
  },
  {
   "cell_type": "code",
   "execution_count": 1098,
   "metadata": {},
   "outputs": [
    {
     "name": "stdout",
     "output_type": "stream",
     "text": [
      "Shape del dataframe: (385, 7)\n"
     ]
    }
   ],
   "source": [
    "# Calcula el número de filas y columnas del dataframe\n",
    "print(\"Shape del dataframe:\", df.shape)"
   ]
  },
  {
   "cell_type": "code",
   "execution_count": 1099,
   "metadata": {},
   "outputs": [
    {
     "name": "stdout",
     "output_type": "stream",
     "text": [
      "Data types of each column:\n",
      "x1        float64\n",
      "x2        float64\n",
      "x3          int64\n",
      "x4          int64\n",
      "x5          int64\n",
      "x6          int64\n",
      "Target    float64\n",
      "dtype: object\n"
     ]
    }
   ],
   "source": [
    "# Muestra el tipo de dato de cada columna\n",
    "print(\"Data types of each column:\")\n",
    "print(df.dtypes)"
   ]
  },
  {
   "cell_type": "code",
   "execution_count": 1100,
   "metadata": {},
   "outputs": [
    {
     "name": "stdout",
     "output_type": "stream",
     "text": [
      "Missing values por Columna:\n",
      "x1        0\n",
      "x2        0\n",
      "x3        0\n",
      "x4        0\n",
      "x5        0\n",
      "x6        0\n",
      "Target    0\n",
      "dtype: int64\n"
     ]
    }
   ],
   "source": [
    "# Chequeamos si hay valores faltantes\n",
    "print(\"Missing values por Columna:\")\n",
    "print(df.isnull().sum())"
   ]
  },
  {
   "cell_type": "code",
   "execution_count": 1101,
   "metadata": {},
   "outputs": [
    {
     "name": "stdout",
     "output_type": "stream",
     "text": [
      "Basic statistics of the numerical columns:\n",
      "                 x1          x2          x3          x4           x5  \\\n",
      "count  3.850000e+02  385.000000  385.000000  385.000000   385.000000   \n",
      "mean   9.461822e+05   25.798971    5.662338   20.740260    80.337662   \n",
      "std    1.718188e+06   29.385563    5.395818   31.255501   220.640911   \n",
      "min    7.021610e+03    0.213802    1.000000    0.000000     4.000000   \n",
      "25%    1.755010e+05    9.088670    3.000000    4.000000    16.000000   \n",
      "50%    3.511500e+05   16.644800    5.000000    9.000000    35.000000   \n",
      "75%    9.127680e+05   29.799900    7.000000   22.000000    70.000000   \n",
      "max    1.466670e+07  235.558000   63.000000  231.000000  3411.000000   \n",
      "\n",
      "                x6      Target  \n",
      "count   385.000000  385.000000  \n",
      "mean    576.779221    0.787013  \n",
      "std     192.118238    0.409951  \n",
      "min      44.000000    0.000000  \n",
      "25%     467.000000    1.000000  \n",
      "50%     664.000000    1.000000  \n",
      "75%     714.000000    1.000000  \n",
      "max    1147.000000    1.000000  \n"
     ]
    }
   ],
   "source": [
    "# Muestra las estadísticas básicas de las columnas numéricas\n",
    "print(\"Basic statistics of the numerical columns:\")\n",
    "print(df.describe())"
   ]
  },
  {
   "cell_type": "code",
   "execution_count": 1102,
   "metadata": {},
   "outputs": [
    {
     "name": "stdout",
     "output_type": "stream",
     "text": [
      "Distribución de la variable target:\n",
      "Target\n",
      "1.0    303\n",
      "0.0     82\n",
      "Name: count, dtype: int64\n"
     ]
    }
   ],
   "source": [
    "# Chequea la distribución de la variable target\n",
    "print(\"Distribución de la variable target:\")\n",
    "print(df['Target'].value_counts())"
   ]
  },
  {
   "cell_type": "markdown",
   "metadata": {},
   "source": [
    "## Feature Selection"
   ]
  },
  {
   "cell_type": "markdown",
   "metadata": {},
   "source": [
    "El código emplea tres métodos para la selección de características. Primero, utiliza un modelo de Random Forest para calcular la importancia de cada variable. Luego, aplica la técnica de importancia de permutación para evaluar el impacto de cada característica al permutar sus valores. Por último, calcula el Factor de Inflación de la Varianza (VIF) para detectar la multicolinealidad entre las características, identificando aquellas con alta correlación. Estos métodos proporcionan una visión integral de la importancia y relación entre las características, contribuyendo así a mejorar la interpretación y el rendimiento del modelo predictivo."
   ]
  },
  {
   "cell_type": "markdown",
   "metadata": {},
   "source": [
    "\n",
    "Primero, usamos un modelo de Random Forest, el código utiliza el atributo feature_importances_ para calcular la importancia de cada característica en la predicción del objetivo. Esta importancia se basa en cómo la inclusión de cada característica afecta la precisión de las predicciones durante el entrenamiento del bosque aleatorio. Luego, los nombres de las características y sus importancias se almacenan en un DataFrame para visualizar la importancia de las características por un gráfico de barras. \n",
    "\n",
    "https://scikit-learn.org/dev/auto_examples/ensemble/plot_forest_importances.html"
   ]
  },
  {
   "cell_type": "code",
   "execution_count": 1103,
   "metadata": {},
   "outputs": [
    {
     "data": {
      "image/png": "[encoded data removed]",
      "text/plain": [
       "<Figure size 1000x600 with 1 Axes>"
      ]
     },
     "metadata": {},
     "output_type": "display_data"
    }
   ],
   "source": [
    "# Separamos las variables predictoras de la variable target\n",
    "X = df.iloc[:, :-1].values\n",
    "y = df.iloc[:, -1].values\n",
    "\n",
    "# Dividiendo el dataset en train y test\n",
    "X_train, X_test, y_train, y_test = train_test_split(X, y, test_size=0.2, random_state=42)\n",
    "\n",
    "# Entre un modelo de Random Forest\n",
    "rf = RandomForestClassifier(n_estimators=100, random_state=42)\n",
    "rf.fit(X_train, y_train)\n",
    "\n",
    "# Obtenemos la importancia de las variables\n",
    "importances = rf.feature_importances_\n",
    "\n",
    "# Obtenemos los nombres de las variables\n",
    "feature_names = df.columns[:-1]\n",
    "\n",
    "# Creamos un dataframe con las variables y su importancia\n",
    "feature_importances = pd.DataFrame({'feature': feature_names, 'importance': importances})\n",
    "feature_importances = feature_importances.sort_values(by='importance', ascending=False)\n",
    "\n",
    "# Ploteamos la importancia de las variables\n",
    "plt.figure(figsize=(10, 6))\n",
    "plt.barh(feature_importances['feature'], feature_importances['importance'])\n",
    "plt.xlabel('Feature Importance')\n",
    "plt.ylabel('Feature')\n",
    "plt.title('Feature Importance from Random Forest')\n",
    "plt.gca().invert_yaxis()\n",
    "plt.show()"
   ]
  },
  {
   "cell_type": "markdown",
   "metadata": {},
   "source": [
    "Una vez entrenado el modelo de Random Forest, el código calcula la importancia de las características mediante la técnica de importancia de permutación. En este proceso, se evalúa el impacto de cada característica al permutar aleatoriamente sus valores y observar cómo esto afecta la métrica de evaluación del modelo, como la precisión o el ROC-AUC. Se repite este proceso varias veces para obtener una estimación más robusta de la importancia de las características. El resultado se almacena en una estructura de datos que contiene información sobre la importancia de cada característica. Este enfoque proporciona una medida de la importancia relativa de las características al evaluar cómo su perturbación afecta el rendimiento del modelo, lo que contribuye a la selección y la interpretación de características para mejorar el modelo predictivo.\n",
    "\n",
    "https://scikit-learn.org/stable/modules/generated/sklearn.inspection.permutation_importance"
   ]
  },
  {
   "cell_type": "code",
   "execution_count": 1104,
   "metadata": {},
   "outputs": [
    {
     "data": {
      "image/png": "[encoded data removed]",
      "text/plain": [
       "<Figure size 1000x600 with 1 Axes>"
      ]
     },
     "metadata": {},
     "output_type": "display_data"
    }
   ],
   "source": [
    "# Calculamos la importancia de las variables con permutation importance\n",
    "result = permutation_importance(rf, X_test, y_test, n_repeats=10, random_state=42, n_jobs=-1)\n",
    "\n",
    "# Creamos un dataframe con las variables y su importancia\n",
    "perm_importances = pd.DataFrame({'feature': feature_names, 'importance': result.importances_mean})\n",
    "perm_importances = perm_importances.sort_values(by='importance', ascending=False)\n",
    "\n",
    "# Ploteamos la importancia de las variables\n",
    "plt.figure(figsize=(10, 6))\n",
    "plt.barh(perm_importances['feature'], perm_importances['importance'])\n",
    "plt.xlabel('Permutation Importance')\n",
    "plt.ylabel('Feature')\n",
    "plt.title('Permutation Feature Importance')\n",
    "plt.gca().invert_yaxis()\n",
    "plt.show()"
   ]
  },
  {
   "cell_type": "markdown",
   "metadata": {},
   "source": [
    "El código define una función llamada calculate_vif que calcula el Factor de Inflación de la Varianza (VIF) para cada característica en un DataFrame, excluyendo la variable objetivo. Utiliza la función variance_inflation_factor de la biblioteca statsmodels para calcular el VIF, que mide la multicolinealidad entre las características al cuantificar cuánto aumenta la varianza de un coeficiente de regresión debido a la correlación con otras características.\n",
    "\n",
    "https://www.statsmodels.org/dev/generated/statsmodels.stats.outliers_influence.variance_inflation_factor.html"
   ]
  },
  {
   "cell_type": "code",
   "execution_count": 1105,
   "metadata": {},
   "outputs": [
    {
     "name": "stdout",
     "output_type": "stream",
     "text": [
      "  feature       VIF\n",
      "0      x1  1.242173\n",
      "1      x2  1.860930\n",
      "2      x3  2.597374\n",
      "3      x4  1.460679\n",
      "4      x5  1.410494\n",
      "5      x6  3.352834\n"
     ]
    }
   ],
   "source": [
    "# Creamos una función para calcular el VIF y guardarlo en un DataFrame\n",
    "def calculate_vif(df):\n",
    "    vif_data = pd.DataFrame()\n",
    "    vif_data[\"feature\"] = df.columns\n",
    "    vif_data[\"VIF\"] = [variance_inflation_factor(df.values, i) for i in range(len(df.columns))]\n",
    "    return vif_data\n",
    "\n",
    "vif_df = calculate_vif(df.iloc[:, :-1])  # Excluiremos la variable target\n",
    "print(vif_df)"
   ]
  },
  {
   "cell_type": "markdown",
   "metadata": {},
   "source": [
    "Sin embargo, al recibir resultados distintos con los tres métodos de feature selection decidimos no eliminar ninguna feature. Lo cual permitió los mejores resultados en pruebas preliminares. "
   ]
  },
  {
   "cell_type": "markdown",
   "metadata": {},
   "source": [
    "## Data Augmentation"
   ]
  },
  {
   "cell_type": "markdown",
   "metadata": {},
   "source": [
    "SMOTETomek es una técnica de remuestreo utilizada para abordar el desequilibrio de clases en conjuntos de datos. Combina dos métodos: SMOTE (Synthetic Minority Over-sampling Technique) y Tomek Links. SMOTE genera muestras sintéticas para la clase minoritaria, mientras que Tomek Links elimina las instancias de la clase mayoritaria que están más cerca de las instancias de la clase minoritaria. Este enfoque busca crear un conjunto de datos más balanceado y separable, mejorando así el rendimiento de los modelos de aprendizaje automático en tareas de clasificación con clases desequilibradas.\n",
    "\n",
    "https://imbalanced-learn.org/stable/references/generated/imblearn.combine.SMOTETomek.html"
   ]
  },
  {
   "cell_type": "code",
   "execution_count": 1106,
   "metadata": {},
   "outputs": [
    {
     "name": "stdout",
     "output_type": "stream",
     "text": [
      "After SMOTE: (442, 6) (442,)\n"
     ]
    }
   ],
   "source": [
    "# Aplicamos SMOTETomek para balancear las clases con datos sintéticos\n",
    "def smote_augmentation(X, y):\n",
    "    sm = SMOTETomek(random_state=42)\n",
    "    X_res, y_res = sm.fit_resample(X, y)\n",
    "    return pd.DataFrame(X_res, columns=X.columns), pd.Series(y_res)\n",
    "\n",
    "X = df.drop('Target', axis=1)\n",
    "y = df['Target']\n",
    "\n",
    "X, y = smote_augmentation(X, y)\n",
    "print('After SMOTE:', X.shape, y.shape)\n"
   ]
  },
  {
   "cell_type": "markdown",
   "metadata": {},
   "source": [
    "## Entrenamiento del Modelo"
   ]
  },
  {
   "cell_type": "code",
   "execution_count": 1107,
   "metadata": {},
   "outputs": [],
   "source": [
    "# Dividimos el dataset en training y testing sets\n",
    "X_train, X_test, y_train, y_test = train_test_split(X, y, test_size=0.2, random_state=42)\n",
    "\n",
    "# Normalizamos las features\n",
    "scaler = StandardScaler()\n",
    "X_train = scaler.fit_transform(X_train)\n",
    "X_test = scaler.transform(X_test)"
   ]
  },
  {
   "cell_type": "code",
   "execution_count": 1108,
   "metadata": {},
   "outputs": [
    {
     "name": "stdout",
     "output_type": "stream",
     "text": [
      "Class weights: {0: 1.0, 1: 1.0}\n"
     ]
    }
   ],
   "source": [
    "# Generamos los pesos de clase para balancear el dataset\n",
    "class_weights = compute_class_weight(class_weight='balanced', classes=np.unique(y), y=y)\n",
    "class_weights = dict(enumerate(class_weights))\n",
    "print(\"Class weights:\", class_weights)"
   ]
  },
  {
   "cell_type": "code",
   "execution_count": 1109,
   "metadata": {},
   "outputs": [],
   "source": [
    "# Creamos un modelo de red neuronal\n",
    "model = Sequential([\n",
    "    Dense(64, activation='relu', kernel_regularizer=l2(0.001)),\n",
    "    Dropout(0.2),\n",
    "    Dense(32, activation='relu', kernel_regularizer=l2(0.001)),\n",
    "    Dropout(0.2),\n",
    "    Dense(1, activation='sigmoid')\n",
    "])\n",
    "\n",
    "# Compilamos el modelo con Adam optimizando el binary crossentropy\n",
    "model.compile(optimizer=Adam(learning_rate=0.001), loss='binary_crossentropy', metrics=[BinaryAccuracy()])"
   ]
  },
  {
   "cell_type": "code",
   "execution_count": 1110,
   "metadata": {},
   "outputs": [
    {
     "name": "stdout",
     "output_type": "stream",
     "text": [
      "Epoch 1/20\n"
     ]
    },
    {
     "name": "stdout",
     "output_type": "stream",
     "text": [
      "18/18 [==============================] - 1s 10ms/step - loss: 0.7418 - binary_accuracy: 0.5390 - val_loss: 0.7656 - val_binary_accuracy: 0.4789\n",
      "Epoch 2/20\n",
      "18/18 [==============================] - 0s 3ms/step - loss: 0.7239 - binary_accuracy: 0.5993 - val_loss: 0.7759 - val_binary_accuracy: 0.5070\n",
      "Epoch 3/20\n",
      "18/18 [==============================] - 0s 3ms/step - loss: 0.7150 - binary_accuracy: 0.6206 - val_loss: 0.7826 - val_binary_accuracy: 0.5070\n",
      "Epoch 4/20\n",
      "18/18 [==============================] - 0s 3ms/step - loss: 0.7229 - binary_accuracy: 0.5851 - val_loss: 0.7810 - val_binary_accuracy: 0.5211\n",
      "Epoch 5/20\n",
      "18/18 [==============================] - 0s 3ms/step - loss: 0.6965 - binary_accuracy: 0.6206 - val_loss: 0.7889 - val_binary_accuracy: 0.5211\n",
      "Epoch 6/20\n",
      "18/18 [==============================] - 0s 3ms/step - loss: 0.6936 - binary_accuracy: 0.6099 - val_loss: 0.7896 - val_binary_accuracy: 0.5070\n",
      "Epoch 7/20\n",
      "18/18 [==============================] - 0s 3ms/step - loss: 0.6769 - binary_accuracy: 0.6277 - val_loss: 0.7951 - val_binary_accuracy: 0.5211\n",
      "Epoch 8/20\n",
      "18/18 [==============================] - 0s 3ms/step - loss: 0.6733 - binary_accuracy: 0.6560 - val_loss: 0.8001 - val_binary_accuracy: 0.5352\n",
      "Epoch 9/20\n",
      "18/18 [==============================] - 0s 3ms/step - loss: 0.6756 - binary_accuracy: 0.6383 - val_loss: 0.8043 - val_binary_accuracy: 0.5070\n",
      "Epoch 10/20\n",
      "18/18 [==============================] - 0s 3ms/step - loss: 0.6751 - binary_accuracy: 0.6241 - val_loss: 0.8037 - val_binary_accuracy: 0.5211\n",
      "Epoch 11/20\n",
      "18/18 [==============================] - 0s 3ms/step - loss: 0.6703 - binary_accuracy: 0.6489 - val_loss: 0.7937 - val_binary_accuracy: 0.5352\n",
      "Epoch 12/20\n",
      "18/18 [==============================] - 0s 3ms/step - loss: 0.6775 - binary_accuracy: 0.6489 - val_loss: 0.7992 - val_binary_accuracy: 0.4930\n",
      "Epoch 13/20\n",
      "18/18 [==============================] - 0s 3ms/step - loss: 0.6583 - binary_accuracy: 0.6809 - val_loss: 0.7953 - val_binary_accuracy: 0.5493\n",
      "Epoch 14/20\n",
      "18/18 [==============================] - 0s 3ms/step - loss: 0.6513 - binary_accuracy: 0.6844 - val_loss: 0.8016 - val_binary_accuracy: 0.5352\n",
      "Epoch 15/20\n",
      "18/18 [==============================] - 0s 3ms/step - loss: 0.6595 - binary_accuracy: 0.6844 - val_loss: 0.7995 - val_binary_accuracy: 0.5493\n",
      "Epoch 16/20\n",
      "18/18 [==============================] - 0s 3ms/step - loss: 0.6493 - binary_accuracy: 0.6950 - val_loss: 0.7917 - val_binary_accuracy: 0.5493\n",
      "Epoch 17/20\n",
      "18/18 [==============================] - 0s 3ms/step - loss: 0.6332 - binary_accuracy: 0.6667 - val_loss: 0.7970 - val_binary_accuracy: 0.5352\n",
      "Epoch 18/20\n",
      "18/18 [==============================] - 0s 3ms/step - loss: 0.6328 - binary_accuracy: 0.6667 - val_loss: 0.7938 - val_binary_accuracy: 0.5352\n",
      "Epoch 19/20\n",
      "18/18 [==============================] - 0s 3ms/step - loss: 0.6429 - binary_accuracy: 0.6489 - val_loss: 0.7911 - val_binary_accuracy: 0.5352\n",
      "Epoch 20/20\n",
      "18/18 [==============================] - 0s 3ms/step - loss: 0.6357 - binary_accuracy: 0.6986 - val_loss: 0.7934 - val_binary_accuracy: 0.5493\n"
     ]
    }
   ],
   "source": [
    "# Definimos el early stopping\n",
    "early_stopping = EarlyStopping(monitor='val_binary_accuracy', patience=10, restore_best_weights=True)\n",
    "\n",
    "# Entrenamos el modelo\n",
    "history = model.fit(\n",
    "    X_train, y_train,\n",
    "    epochs=20,\n",
    "    batch_size=16,\n",
    "    validation_split=0.2,\n",
    "    class_weight=class_weights,\n",
    "    callbacks=[early_stopping]\n",
    ")"
   ]
  },
  {
   "cell_type": "code",
   "execution_count": 1111,
   "metadata": {},
   "outputs": [
    {
     "name": "stdout",
     "output_type": "stream",
     "text": [
      "3/3 [==============================] - 0s 2ms/step\n",
      "              precision    recall  f1-score   support\n",
      "\n",
      "         0.0       0.82      0.73      0.78        45\n",
      "         1.0       0.76      0.84      0.80        44\n",
      "\n",
      "    accuracy                           0.79        89\n",
      "   macro avg       0.79      0.79      0.79        89\n",
      "weighted avg       0.79      0.79      0.79        89\n",
      "\n",
      "ROC-AUC Score: 0.8242424242424242\n"
     ]
    }
   ],
   "source": [
    "# Predecimos las probabilidades y sus clases correspondientes\n",
    "y_pred_prob = model.predict(X_test)\n",
    "y_pred = (y_pred_prob > 0.5).astype(int)\n",
    "# Hacemos un reporte de las métricas de evaluación\n",
    "print(classification_report(y_test, y_pred))\n",
    "roc_auc = roc_auc_score(y_test, y_pred_prob)\n",
    "print(\"ROC-AUC Score:\", roc_auc)"
   ]
  },
  {
   "cell_type": "code",
   "execution_count": 1112,
   "metadata": {},
   "outputs": [
    {
     "name": "stdout",
     "output_type": "stream",
     "text": [
      "Accuracy: 0.7865\n",
      "Precision: 0.7551\n",
      "Recall: 0.8409\n",
      "F1 Score: 0.7957\n",
      "\n",
      "\n"
     ]
    }
   ],
   "source": [
    "# Evaluación del Modelo General\n",
    "accuracy = accuracy_score(y_test, y_pred)\n",
    "precision = precision_score(y_test, y_pred)\n",
    "recall = recall_score(y_test, y_pred)\n",
    "f1 = f1_score(y_test, y_pred)\n",
    "# Imprimimos las métricas\n",
    "print(f\"Accuracy: {accuracy:.4f}\")\n",
    "print(f\"Precision: {precision:.4f}\")\n",
    "print(f\"Recall: {recall:.4f}\")\n",
    "print(f\"F1 Score: {f1:.4f}\")\n",
    "print(\"\\n\")"
   ]
  },
  {
   "cell_type": "code",
   "execution_count": 1113,
   "metadata": {},
   "outputs": [
    {
     "data": {
      "image/png": "[encoded data removed]",
      "text/plain": [
       "<Figure size 1000x800 with 2 Axes>"
      ]
     },
     "metadata": {},
     "output_type": "display_data"
    }
   ],
   "source": [
    "# Definiendo una función para imprimir la matriz de confusión\n",
    "def print_confusion_matrix(conf_matrix, labels):\n",
    "    plt.figure(figsize=(10, 8))\n",
    "    sns.heatmap(conf_matrix, annot=True, fmt='d', cmap='Blues', xticklabels=labels, yticklabels=labels)\n",
    "    plt.xlabel('Predicted Labels')\n",
    "    plt.ylabel('True Labels')\n",
    "    plt.title('Confusion Matrix')\n",
    "    plt.show()\n",
    "\n",
    "# Etiquetas de clase (puedes ajustarlas según tu conjunto de datos)\n",
    "class_labels = ['Clase 0', 'Clase 1']\n",
    "\n",
    "# Imprimir la matriz de confusión\n",
    "print_confusion_matrix(confusion_matrix(y_test, y_pred), labels=class_labels)"
   ]
  }
 ],
 "metadata": {
  "kernelspec": {
   "display_name": "venv",
   "language": "python",
   "name": "python3"
  },
  "language_info": {
   "codemirror_mode": {
    "name": "ipython",
    "version": 3
   },
   "file_extension": ".py",
   "mimetype": "text/x-python",
   "name": "python",
   "nbconvert_exporter": "python",
   "pygments_lexer": "ipython3",
   "version": "3.8.10"
  }
 },
 "nbformat": 4,
 "nbformat_minor": 2
}
