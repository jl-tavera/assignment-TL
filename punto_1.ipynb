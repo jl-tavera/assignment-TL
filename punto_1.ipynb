{
 "cells": [
  {
   "cell_type": "markdown",
   "metadata": {},
   "source": [
    "## Libraries"
   ]
  },
  {
   "cell_type": "code",
   "execution_count": 1038,
   "metadata": {},
   "outputs": [],
   "source": [
    "import pandas as pd\n",
    "import numpy as np\n",
    "import matplotlib.pyplot as plt\n",
    "import seaborn as sns\n",
    "\n",
    "from statsmodels.stats.outliers_influence import variance_inflation_factor\n",
    "\n",
    "from imblearn.combine import SMOTETomek\n",
    "\n",
    "from sklearn.inspection import permutation_importance\n",
    "from sklearn.ensemble import RandomForestClassifier\n",
    "from sklearn.model_selection import train_test_split\n",
    "from sklearn.preprocessing import StandardScaler\n",
    "from sklearn.utils.class_weight import compute_class_weight\n",
    "from sklearn.metrics import classification_report,roc_auc_score, confusion_matrix, precision_score, recall_score, f1_score, accuracy_score\n",
    "\n",
    "from tensorflow.keras.models import Sequential\n",
    "from tensorflow.keras.layers import Dense, Dropout\n",
    "from tensorflow.keras.callbacks import EarlyStopping\n",
    "from tensorflow.keras.regularizers import l2\n"
   ]
  },
  {
   "cell_type": "markdown",
   "metadata": {},
   "source": [
    "## Data Exploration"
   ]
  },
  {
   "cell_type": "code",
   "execution_count": 1039,
   "metadata": {},
   "outputs": [],
   "source": [
    "df = pd.read_pickle('../assignment-TL/data/df_bd.pkl')"
   ]
  },
  {
   "cell_type": "code",
   "execution_count": 1040,
   "metadata": {},
   "outputs": [
    {
     "name": "stdout",
     "output_type": "stream",
     "text": [
      "          x1        x2  x3  x4   x5   x6  Target\n",
      "0  1525020.0   2.32277  10   7  310  718     1.0\n",
      "1   274197.0  19.31960   6  21   29  541     1.0\n",
      "2   169780.0  12.50540   6   1   62  763     1.0\n",
      "3    17227.8  16.52660   2  14   45  728     1.0\n",
      "4   437237.0  32.53740   4  23   22  683     1.0\n"
     ]
    }
   ],
   "source": [
    "# Muestra las primeras 5 filas del dataframe\n",
    "print(df.head())"
   ]
  },
  {
   "cell_type": "code",
   "execution_count": 1041,
   "metadata": {},
   "outputs": [
    {
     "name": "stdout",
     "output_type": "stream",
     "text": [
      "Shape del dataframe: (385, 7)\n"
     ]
    }
   ],
   "source": [
    "# Calcula el número de filas y columnas del dataframe\n",
    "print(\"Shape del dataframe:\", df.shape)"
   ]
  },
  {
   "cell_type": "code",
   "execution_count": 1042,
   "metadata": {},
   "outputs": [
    {
     "name": "stdout",
     "output_type": "stream",
     "text": [
      "Data types of each column:\n",
      "x1        float64\n",
      "x2        float64\n",
      "x3          int64\n",
      "x4          int64\n",
      "x5          int64\n",
      "x6          int64\n",
      "Target    float64\n",
      "dtype: object\n"
     ]
    }
   ],
   "source": [
    "# Muestra el tipo de dato de cada columna\n",
    "print(\"Data types of each column:\")\n",
    "print(df.dtypes)"
   ]
  },
  {
   "cell_type": "code",
   "execution_count": 1043,
   "metadata": {},
   "outputs": [
    {
     "name": "stdout",
     "output_type": "stream",
     "text": [
      "Missing values por Columna:\n",
      "x1        0\n",
      "x2        0\n",
      "x3        0\n",
      "x4        0\n",
      "x5        0\n",
      "x6        0\n",
      "Target    0\n",
      "dtype: int64\n"
     ]
    }
   ],
   "source": [
    "# Chequeamos si hay valores faltantes\n",
    "print(\"Missing values por Columna:\")\n",
    "print(df.isnull().sum())"
   ]
  },
  {
   "cell_type": "code",
   "execution_count": 1044,
   "metadata": {},
   "outputs": [
    {
     "name": "stdout",
     "output_type": "stream",
     "text": [
      "Basic statistics of the numerical columns:\n",
      "                 x1          x2          x3          x4           x5  \\\n",
      "count  3.850000e+02  385.000000  385.000000  385.000000   385.000000   \n",
      "mean   9.461822e+05   25.798971    5.662338   20.740260    80.337662   \n",
      "std    1.718188e+06   29.385563    5.395818   31.255501   220.640911   \n",
      "min    7.021610e+03    0.213802    1.000000    0.000000     4.000000   \n",
      "25%    1.755010e+05    9.088670    3.000000    4.000000    16.000000   \n",
      "50%    3.511500e+05   16.644800    5.000000    9.000000    35.000000   \n",
      "75%    9.127680e+05   29.799900    7.000000   22.000000    70.000000   \n",
      "max    1.466670e+07  235.558000   63.000000  231.000000  3411.000000   \n",
      "\n",
      "                x6      Target  \n",
      "count   385.000000  385.000000  \n",
      "mean    576.779221    0.787013  \n",
      "std     192.118238    0.409951  \n",
      "min      44.000000    0.000000  \n",
      "25%     467.000000    1.000000  \n",
      "50%     664.000000    1.000000  \n",
      "75%     714.000000    1.000000  \n",
      "max    1147.000000    1.000000  \n"
     ]
    }
   ],
   "source": [
    "# Muestra las estadísticas básicas de las columnas numéricas\n",
    "print(\"Basic statistics of the numerical columns:\")\n",
    "print(df.describe())"
   ]
  },
  {
   "cell_type": "code",
   "execution_count": 1045,
   "metadata": {},
   "outputs": [
    {
     "name": "stdout",
     "output_type": "stream",
     "text": [
      "Distribución de la variable target:\n",
      "Target\n",
      "1.0    303\n",
      "0.0     82\n",
      "Name: count, dtype: int64\n"
     ]
    }
   ],
   "source": [
    "# Chequea la distribución de la variable target\n",
    "print(\"Distribución de la variable target:\")\n",
    "print(df['Target'].value_counts())"
   ]
  },
  {
   "cell_type": "markdown",
   "metadata": {},
   "source": [
    "## Feature Selection"
   ]
  },
  {
   "cell_type": "code",
   "execution_count": 1046,
   "metadata": {},
   "outputs": [
    {
     "data": {
      "image/png": "[encoded data removed]",
      "text/plain": [
       "<Figure size 1000x600 with 1 Axes>"
      ]
     },
     "metadata": {},
     "output_type": "display_data"
    }
   ],
   "source": [
    "# Separamos las variables predictoras de la variable target\n",
    "X = df.iloc[:, :-1].values\n",
    "y = df.iloc[:, -1].values\n",
    "\n",
    "# Dividiendo el dataset en train y test\n",
    "X_train, X_test, y_train, y_test = train_test_split(X, y, test_size=0.2, random_state=42)\n",
    "\n",
    "# Entre un modelo de Random Forest\n",
    "rf = RandomForestClassifier(n_estimators=100, random_state=42)\n",
    "rf.fit(X_train, y_train)\n",
    "\n",
    "# Obtenemos la importancia de las variables\n",
    "importances = rf.feature_importances_\n",
    "\n",
    "# Obtenemos los nombres de las variables\n",
    "feature_names = df.columns[:-1]\n",
    "\n",
    "# Creamos un dataframe con las variables y su importancia\n",
    "feature_importances = pd.DataFrame({'feature': feature_names, 'importance': importances})\n",
    "feature_importances = feature_importances.sort_values(by='importance', ascending=False)\n",
    "\n",
    "# Ploteamos la importancia de las variables\n",
    "plt.figure(figsize=(10, 6))\n",
    "plt.barh(feature_importances['feature'], feature_importances['importance'])\n",
    "plt.xlabel('Feature Importance')\n",
    "plt.ylabel('Feature')\n",
    "plt.title('Feature Importance from Random Forest')\n",
    "plt.gca().invert_yaxis()\n",
    "plt.show()"
   ]
  },
  {
   "cell_type": "code",
   "execution_count": 1047,
   "metadata": {},
   "outputs": [
    {
     "data": {
      "image/png": "[encoded data removed]",
      "text/plain": [
       "<Figure size 1000x600 with 1 Axes>"
      ]
     },
     "metadata": {},
     "output_type": "display_data"
    }
   ],
   "source": [
    "# Calculate permutation feature importance\n",
    "result = permutation_importance(rf, X_test, y_test, n_repeats=10, random_state=42, n_jobs=-1)\n",
    "\n",
    "# Create a DataFrame for visualization\n",
    "perm_importances = pd.DataFrame({'feature': feature_names, 'importance': result.importances_mean})\n",
    "perm_importances = perm_importances.sort_values(by='importance', ascending=False)\n",
    "\n",
    "# Plot permutation importances\n",
    "plt.figure(figsize=(10, 6))\n",
    "plt.barh(perm_importances['feature'], perm_importances['importance'])\n",
    "plt.xlabel('Permutation Importance')\n",
    "plt.ylabel('Feature')\n",
    "plt.title('Permutation Feature Importance')\n",
    "plt.gca().invert_yaxis()\n",
    "plt.show()"
   ]
  },
  {
   "cell_type": "code",
   "execution_count": 1048,
   "metadata": {},
   "outputs": [
    {
     "name": "stdout",
     "output_type": "stream",
     "text": [
      "  feature       VIF\n",
      "0      x1  1.242173\n",
      "1      x2  1.860930\n",
      "2      x3  2.597374\n",
      "3      x4  1.460679\n",
      "4      x5  1.410494\n",
      "5      x6  3.352834\n"
     ]
    }
   ],
   "source": [
    "# Creamos una función para calcular el VIF y guardarlo en un DataFrame\n",
    "def calculate_vif(df):\n",
    "    vif_data = pd.DataFrame()\n",
    "    vif_data[\"feature\"] = df.columns\n",
    "    vif_data[\"VIF\"] = [variance_inflation_factor(df.values, i) for i in range(len(df.columns))]\n",
    "    return vif_data\n",
    "\n",
    "vif_df = calculate_vif(df.iloc[:, :-1])  # Excluiremos la variable target\n",
    "print(vif_df)"
   ]
  },
  {
   "cell_type": "markdown",
   "metadata": {},
   "source": [
    "## Data Augmentation"
   ]
  },
  {
   "cell_type": "code",
   "execution_count": 1049,
   "metadata": {},
   "outputs": [
    {
     "name": "stdout",
     "output_type": "stream",
     "text": [
      "After SMOTE: (442, 6) (442,)\n"
     ]
    }
   ],
   "source": [
    "# 1. SMOTE for synthetic minority over-sampling\n",
    "def smote_augmentation(X, y):\n",
    "    sm = SMOTETomek(random_state=42)\n",
    "    X_res, y_res = sm.fit_resample(X, y)\n",
    "    return pd.DataFrame(X_res, columns=X.columns), pd.Series(y_res)\n",
    "\n",
    "X = df.drop('Target', axis=1)\n",
    "y = df['Target']\n",
    "\n",
    "X, y = smote_augmentation(X, y)\n",
    "print('After SMOTE:', X.shape, y.shape)\n"
   ]
  },
  {
   "cell_type": "markdown",
   "metadata": {},
   "source": [
    "## Entrenamiento del Modelo"
   ]
  },
  {
   "cell_type": "code",
   "execution_count": 1050,
   "metadata": {},
   "outputs": [],
   "source": [
    "# Dividimos el dataset en training y testing sets\n",
    "X_train, X_test, y_train, y_test = train_test_split(X, y, test_size=0.2, random_state=42)\n",
    "\n",
    "# Normalizamos las features\n",
    "scaler = StandardScaler()\n",
    "X_train = scaler.fit_transform(X_train)\n",
    "X_test = scaler.transform(X_test)"
   ]
  },
  {
   "cell_type": "code",
   "execution_count": 1051,
   "metadata": {},
   "outputs": [
    {
     "name": "stdout",
     "output_type": "stream",
     "text": [
      "Class weights: {0: 1.0, 1: 1.0}\n"
     ]
    }
   ],
   "source": [
    "# Generamos los pesos de clase para balancear el dataset\n",
    "class_weights = compute_class_weight(class_weight='balanced', classes=np.unique(y), y=y)\n",
    "class_weights = dict(enumerate(class_weights))\n",
    "print(\"Class weights:\", class_weights)"
   ]
  },
  {
   "cell_type": "code",
   "execution_count": 1052,
   "metadata": {},
   "outputs": [],
   "source": [
    "\n",
    "\n",
    "model = Sequential([\n",
    "    Dense(64, activation='relu', kernel_regularizer=l2(0.001)),\n",
    "    Dropout(0.2),\n",
    "    Dense(32, activation='relu', kernel_regularizer=l2(0.001)),\n",
    "    Dropout(0.2),\n",
    "    Dense(1, activation='sigmoid')\n",
    "])\n",
    "model.compile(optimizer=Adam(learning_rate=0.001), loss='binary_crossentropy', metrics=[BinaryAccuracy()])"
   ]
  },
  {
   "cell_type": "code",
   "execution_count": 1053,
   "metadata": {},
   "outputs": [
    {
     "name": "stdout",
     "output_type": "stream",
     "text": [
      "Epoch 1/50\n",
      "18/18 [==============================] - 1s 11ms/step - loss: 0.7775 - binary_accuracy: 0.5461 - val_loss: 0.7701 - val_binary_accuracy: 0.5634\n",
      "Epoch 2/50\n",
      "18/18 [==============================] - 0s 4ms/step - loss: 0.7788 - binary_accuracy: 0.5567 - val_loss: 0.7695 - val_binary_accuracy: 0.6056\n",
      "Epoch 3/50\n",
      "18/18 [==============================] - 0s 4ms/step - loss: 0.7586 - binary_accuracy: 0.5567 - val_loss: 0.7730 - val_binary_accuracy: 0.5352\n",
      "Epoch 4/50\n",
      "18/18 [==============================] - 0s 4ms/step - loss: 0.7585 - binary_accuracy: 0.5674 - val_loss: 0.7723 - val_binary_accuracy: 0.5070\n",
      "Epoch 5/50\n",
      "18/18 [==============================] - 0s 4ms/step - loss: 0.7396 - binary_accuracy: 0.6064 - val_loss: 0.7734 - val_binary_accuracy: 0.5070\n",
      "Epoch 6/50\n",
      "18/18 [==============================] - 0s 3ms/step - loss: 0.7355 - binary_accuracy: 0.6028 - val_loss: 0.7762 - val_binary_accuracy: 0.5211\n",
      "Epoch 7/50\n",
      "18/18 [==============================] - 0s 3ms/step - loss: 0.7281 - binary_accuracy: 0.6170 - val_loss: 0.7761 - val_binary_accuracy: 0.5070\n",
      "Epoch 8/50\n",
      "18/18 [==============================] - 0s 3ms/step - loss: 0.7391 - binary_accuracy: 0.5780 - val_loss: 0.7738 - val_binary_accuracy: 0.4648\n",
      "Epoch 9/50\n",
      "18/18 [==============================] - 0s 3ms/step - loss: 0.7313 - binary_accuracy: 0.5887 - val_loss: 0.7747 - val_binary_accuracy: 0.4789\n",
      "Epoch 10/50\n",
      "18/18 [==============================] - 0s 3ms/step - loss: 0.7281 - binary_accuracy: 0.6206 - val_loss: 0.7746 - val_binary_accuracy: 0.4789\n",
      "Epoch 11/50\n",
      "18/18 [==============================] - 0s 4ms/step - loss: 0.7253 - binary_accuracy: 0.6028 - val_loss: 0.7754 - val_binary_accuracy: 0.5211\n",
      "Epoch 12/50\n",
      "18/18 [==============================] - 0s 3ms/step - loss: 0.7270 - binary_accuracy: 0.5993 - val_loss: 0.7789 - val_binary_accuracy: 0.5211\n"
     ]
    }
   ],
   "source": [
    "# Define early stopping\n",
    "early_stopping = EarlyStopping(monitor='val_binary_accuracy', patience=10, restore_best_weights=True)\n",
    "\n",
    "# Train the model\n",
    "history = model.fit(\n",
    "    X_train, y_train,\n",
    "    epochs=50,\n",
    "    batch_size=16,\n",
    "    validation_split=0.2,\n",
    "    class_weight=class_weights,\n",
    "    callbacks=[early_stopping]\n",
    ")"
   ]
  },
  {
   "cell_type": "code",
   "execution_count": 1054,
   "metadata": {},
   "outputs": [
    {
     "name": "stdout",
     "output_type": "stream",
     "text": [
      "3/3 [==============================] - 0s 2ms/step\n",
      "              precision    recall  f1-score   support\n",
      "\n",
      "         0.0       0.62      0.73      0.67        45\n",
      "         1.0       0.67      0.55      0.60        44\n",
      "\n",
      "    accuracy                           0.64        89\n",
      "   macro avg       0.64      0.64      0.64        89\n",
      "weighted avg       0.64      0.64      0.64        89\n",
      "\n",
      "ROC-AUC Score: 0.6787878787878787\n"
     ]
    }
   ],
   "source": [
    "# Predict probabilities\n",
    "y_pred_prob = model.predict(X_test)\n",
    "# Predict classes\n",
    "y_pred = (y_pred_prob > 0.5).astype(int)\n",
    "\n",
    "# Classification report\n",
    "print(classification_report(y_test, y_pred))\n",
    "\n",
    "# ROC-AUC score\n",
    "roc_auc = roc_auc_score(y_test, y_pred_prob)\n",
    "print(\"ROC-AUC Score:\", roc_auc)"
   ]
  },
  {
   "cell_type": "code",
   "execution_count": 1055,
   "metadata": {},
   "outputs": [
    {
     "name": "stdout",
     "output_type": "stream",
     "text": [
      "Accuracy: 0.6404\n",
      "Precision: 0.6667\n",
      "Recall: 0.5455\n",
      "F1 Score: 0.6000\n",
      "\n",
      "\n"
     ]
    }
   ],
   "source": [
    "   #\n",
    "#  Evaluación del Modelo\n",
    "accuracy = accuracy_score(y_test, y_pred)\n",
    "precision = precision_score(y_test, y_pred)\n",
    "recall = recall_score(y_test, y_pred)\n",
    "f1 = f1_score(y_test, y_pred)\n",
    "\n",
    "\n",
    "print(f\"Accuracy: {accuracy:.4f}\")\n",
    "print(f\"Precision: {precision:.4f}\")\n",
    "print(f\"Recall: {recall:.4f}\")\n",
    "print(f\"F1 Score: {f1:.4f}\")\n",
    "print(\"\\n\")"
   ]
  },
  {
   "cell_type": "code",
   "execution_count": 1056,
   "metadata": {},
   "outputs": [
    {
     "data": {
      "image/png": "[encoded data removed]",
      "text/plain": [
       "<Figure size 1000x800 with 2 Axes>"
      ]
     },
     "metadata": {},
     "output_type": "display_data"
    }
   ],
   "source": [
    "def print_confusion_matrix(conf_matrix, labels):\n",
    "    plt.figure(figsize=(10, 8))\n",
    "    sns.heatmap(conf_matrix, annot=True, fmt='d', cmap='Blues', xticklabels=labels, yticklabels=labels)\n",
    "    plt.xlabel('Predicted Labels')\n",
    "    plt.ylabel('True Labels')\n",
    "    plt.title('Confusion Matrix')\n",
    "    plt.show()\n",
    "\n",
    "# Etiquetas de clase (puedes ajustarlas según tu conjunto de datos)\n",
    "class_labels = ['Clase 0', 'Clase 1']\n",
    "\n",
    "# Imprimir la matriz de confusión\n",
    "print_confusion_matrix(confusion_matrix(y_test, y_pred), labels=class_labels)"
   ]
  }
 ],
 "metadata": {
  "kernelspec": {
   "display_name": "venv",
   "language": "python",
   "name": "python3"
  },
  "language_info": {
   "codemirror_mode": {
    "name": "ipython",
    "version": 3
   },
   "file_extension": ".py",
   "mimetype": "text/x-python",
   "name": "python",
   "nbconvert_exporter": "python",
   "pygments_lexer": "ipython3",
   "version": "3.8.10"
  }
 },
 "nbformat": 4,
 "nbformat_minor": 2
}
